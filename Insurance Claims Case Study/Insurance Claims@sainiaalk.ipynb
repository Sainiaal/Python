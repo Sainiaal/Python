{
 "cells": [
  {
   "cell_type": "code",
   "execution_count": 1,
   "id": "3c514b0c",
   "metadata": {},
   "outputs": [],
   "source": [
    "import pandas as pd\n",
    "import numpy as np\n",
    "import seaborn as sns\n",
    "import matplotlib.pyplot as plt\n",
    "import datetime as dt\n",
    "import scipy.stats as stats"
   ]
  },
  {
   "cell_type": "code",
   "execution_count": 2,
   "id": "99c794d7",
   "metadata": {},
   "outputs": [
    {
     "data": {
      "text/plain": [
       "(1085, 16)"
      ]
     },
     "execution_count": 2,
     "metadata": {},
     "output_type": "execute_result"
    }
   ],
   "source": [
    "#1\n",
    "cust = pd.read_csv(\"cust_demographics.csv\")\n",
    "claim = pd.read_csv(\"claims.csv\")\n",
    "data = claim.merge(cust,left_on='customer_id',right_on='CUST_ID',how='inner')\n",
    "data.shape"
   ]
  },
  {
   "cell_type": "code",
   "execution_count": 3,
   "id": "e8c83ea6",
   "metadata": {},
   "outputs": [
    {
     "name": "stdout",
     "output_type": "stream",
     "text": [
      "<class 'pandas.core.frame.DataFrame'>\n",
      "Int64Index: 1085 entries, 0 to 1084\n",
      "Data columns (total 16 columns):\n",
      " #   Column               Non-Null Count  Dtype  \n",
      "---  ------               --------------  -----  \n",
      " 0   claim_id             1085 non-null   int64  \n",
      " 1   customer_id          1085 non-null   int64  \n",
      " 2   incident_cause       1085 non-null   object \n",
      " 3   claim_date           1085 non-null   object \n",
      " 4   claim_area           1085 non-null   object \n",
      " 5   police_report        1085 non-null   object \n",
      " 6   claim_type           1085 non-null   object \n",
      " 7   claim_amount         1020 non-null   object \n",
      " 8   total_policy_claims  1075 non-null   float64\n",
      " 9   fraudulent           1085 non-null   object \n",
      " 10  CUST_ID              1085 non-null   int64  \n",
      " 11  gender               1085 non-null   object \n",
      " 12  DateOfBirth          1085 non-null   object \n",
      " 13  State                1085 non-null   object \n",
      " 14  Contact              1085 non-null   object \n",
      " 15  Segment              1085 non-null   object \n",
      "dtypes: float64(1), int64(3), object(12)\n",
      "memory usage: 144.1+ KB\n"
     ]
    }
   ],
   "source": [
    "#2\n",
    "data.info()"
   ]
  },
  {
   "cell_type": "code",
   "execution_count": 4,
   "id": "762b6a54",
   "metadata": {},
   "outputs": [
    {
     "name": "stdout",
     "output_type": "stream",
     "text": [
      "<class 'pandas.core.frame.DataFrame'>\n",
      "Int64Index: 1085 entries, 0 to 1084\n",
      "Data columns (total 17 columns):\n",
      " #   Column               Non-Null Count  Dtype         \n",
      "---  ------               --------------  -----         \n",
      " 0   claim_id             1085 non-null   int64         \n",
      " 1   customer_id          1085 non-null   int64         \n",
      " 2   incident_cause       1085 non-null   object        \n",
      " 3   claim_date           1085 non-null   datetime64[ns]\n",
      " 4   claim_area           1085 non-null   object        \n",
      " 5   police_report        1085 non-null   object        \n",
      " 6   claim_type           1085 non-null   object        \n",
      " 7   claim_amount         1020 non-null   object        \n",
      " 8   total_policy_claims  1075 non-null   float64       \n",
      " 9   fraudulent           1085 non-null   object        \n",
      " 10  CUST_ID              1085 non-null   int64         \n",
      " 11  gender               1085 non-null   object        \n",
      " 12  DateOfBirth          1085 non-null   datetime64[ns]\n",
      " 13  State                1085 non-null   object        \n",
      " 14  Contact              1085 non-null   object        \n",
      " 15  Segment              1085 non-null   object        \n",
      " 16  Year                 1085 non-null   int64         \n",
      "dtypes: datetime64[ns](2), float64(1), int64(4), object(10)\n",
      "memory usage: 152.6+ KB\n"
     ]
    }
   ],
   "source": [
    "#2\n",
    "data.loc[:,\"Year\"] = pd.to_datetime(data.DateOfBirth).dt.year\n",
    "data.Year = np.where(data.Year>2030,data.Year-100,data.Year)\n",
    "data.DateOfBirth = pd.to_datetime(data.DateOfBirth.str[:7]+data.Year.astype(str))\n",
    "data.claim_date = pd.to_datetime(data.claim_date)\n",
    "\n",
    "data.info()"
   ]
  },
  {
   "cell_type": "code",
   "execution_count": 5,
   "id": "b6193109",
   "metadata": {},
   "outputs": [
    {
     "name": "stderr",
     "output_type": "stream",
     "text": [
      "C:\\Users\\sainiaal\\AppData\\Local\\Temp/ipykernel_19812/1304472339.py:2: FutureWarning: The default value of regex will change from True to False in a future version. In addition, single character regular expressions will *not* be treated as literal strings when regex=True.\n",
      "  data[\"claim_amount\"] = data.claim_amount.str.replace(\"$\",\"\").astype(float)\n"
     ]
    }
   ],
   "source": [
    "#3\n",
    "data[\"claim_amount\"] = data.claim_amount.str.replace(\"$\",\"\").astype(float)"
   ]
  },
  {
   "cell_type": "code",
   "execution_count": 6,
   "id": "bf524280",
   "metadata": {},
   "outputs": [],
   "source": [
    "#4\n",
    "data[\"AlertFlag\"]=np.where((data.claim_type.isin(['Injury only', 'Material and injury']))&(data.police_report == \"No\"),1,0).astype(\"int8\")"
   ]
  },
  {
   "cell_type": "code",
   "execution_count": 7,
   "id": "f2eef429",
   "metadata": {},
   "outputs": [],
   "source": [
    "#5\n",
    "data.drop_duplicates(\"customer_id\",keep='first',inplace=True)\n",
    "data.reset_index(inplace=True,drop=True)"
   ]
  },
  {
   "cell_type": "code",
   "execution_count": 8,
   "id": "0f20569b",
   "metadata": {},
   "outputs": [
    {
     "name": "stdout",
     "output_type": "stream",
     "text": [
      "Columns that has NA \n",
      "\n",
      "claim_amount           65\n",
      "total_policy_claims    10\n",
      "dtype: int64\n"
     ]
    }
   ],
   "source": [
    "#6 checking Na values\n",
    "cols = data.isna().sum()\n",
    "print(f\"Columns that has NA \\n\\n{cols[cols>0]}\")"
   ]
  },
  {
   "cell_type": "code",
   "execution_count": 9,
   "id": "4d0b91e3",
   "metadata": {},
   "outputs": [
    {
     "data": {
      "text/plain": [
       "claim_id               0\n",
       "customer_id            0\n",
       "incident_cause         0\n",
       "claim_date             0\n",
       "claim_area             0\n",
       "police_report          0\n",
       "claim_type             0\n",
       "claim_amount           0\n",
       "total_policy_claims    0\n",
       "fraudulent             0\n",
       "CUST_ID                0\n",
       "gender                 0\n",
       "DateOfBirth            0\n",
       "State                  0\n",
       "Contact                0\n",
       "Segment                0\n",
       "Year                   0\n",
       "AlertFlag              0\n",
       "dtype: int64"
      ]
     },
     "execution_count": 9,
     "metadata": {},
     "output_type": "execute_result"
    }
   ],
   "source": [
    "#6 mean for continous and mode for categorical\n",
    "data.claim_amount.fillna(data.claim_amount.mean(),inplace=True)\n",
    "mode = data.groupby(\"total_policy_claims\").agg({\"claim_id\":\"count\"}).sort_values(\"claim_id\",ascending=False).head(1).index[0]\n",
    "data.total_policy_claims.fillna(mode,inplace=True)\n",
    "data.isna().sum()"
   ]
  },
  {
   "cell_type": "code",
   "execution_count": 10,
   "id": "2c686b08",
   "metadata": {},
   "outputs": [],
   "source": [
    "#7\n",
    "\n",
    "ages = (((dt.datetime.today() - data.DateOfBirth)/365.25).astype(str)).str[:2].astype(int)\n",
    "data[\"Age\"] = np.where(ages<=18,\"Children\",np.where(ages<=30,\"Youth\",np.where(ages<=60,\"Adult\",\"Senior\")))"
   ]
  },
  {
   "cell_type": "code",
   "execution_count": 11,
   "id": "5c5ba831",
   "metadata": {},
   "outputs": [
    {
     "data": {
      "text/html": [
       "<div>\n",
       "<style scoped>\n",
       "    .dataframe tbody tr th:only-of-type {\n",
       "        vertical-align: middle;\n",
       "    }\n",
       "\n",
       "    .dataframe tbody tr th {\n",
       "        vertical-align: top;\n",
       "    }\n",
       "\n",
       "    .dataframe thead th {\n",
       "        text-align: right;\n",
       "    }\n",
       "</style>\n",
       "<table border=\"1\" class=\"dataframe\">\n",
       "  <thead>\n",
       "    <tr style=\"text-align: right;\">\n",
       "      <th></th>\n",
       "      <th>claim_amount</th>\n",
       "    </tr>\n",
       "    <tr>\n",
       "      <th>Segment</th>\n",
       "      <th></th>\n",
       "    </tr>\n",
       "  </thead>\n",
       "  <tbody>\n",
       "    <tr>\n",
       "      <th>Gold</th>\n",
       "      <td>12756.479697</td>\n",
       "    </tr>\n",
       "    <tr>\n",
       "      <th>Platinum</th>\n",
       "      <td>12369.304648</td>\n",
       "    </tr>\n",
       "    <tr>\n",
       "      <th>Silver</th>\n",
       "      <td>12269.434851</td>\n",
       "    </tr>\n",
       "  </tbody>\n",
       "</table>\n",
       "</div>"
      ],
      "text/plain": [
       "          claim_amount\n",
       "Segment               \n",
       "Gold      12756.479697\n",
       "Platinum  12369.304648\n",
       "Silver    12269.434851"
      ]
     },
     "execution_count": 11,
     "metadata": {},
     "output_type": "execute_result"
    }
   ],
   "source": [
    "#8 \n",
    "data.groupby(\"Segment\").agg({\"claim_amount\":\"mean\"})"
   ]
  },
  {
   "cell_type": "code",
   "execution_count": 12,
   "id": "e8593a63",
   "metadata": {},
   "outputs": [
    {
     "data": {
      "text/plain": [
       "322444.4970384995"
      ]
     },
     "execution_count": 12,
     "metadata": {},
     "output_type": "execute_result"
    }
   ],
   "source": [
    "#9\n",
    "timestamp = dt.datetime(2018,10,1)\n",
    "data[((timestamp - data.claim_date)<dt.timedelta(days=20))&((timestamp - data.claim_date)>dt.timedelta(days=0))].claim_amount.sum()"
   ]
  },
  {
   "cell_type": "code",
   "execution_count": 13,
   "id": "16cc094b",
   "metadata": {},
   "outputs": [
    {
     "data": {
      "text/plain": [
       "27"
      ]
     },
     "execution_count": 13,
     "metadata": {},
     "output_type": "execute_result"
    }
   ],
   "source": [
    "#10\n",
    "data[(data[\"Age\"]==\"Adult\")&(data[\"State\"].isin([\"DE\",\"AK\",\"TX\"]))&(data[\"incident_cause\"].isin([\"Other driver error\",\"Driver error\"]))].shape[0]"
   ]
  },
  {
   "cell_type": "code",
   "execution_count": 14,
   "id": "ed546075",
   "metadata": {},
   "outputs": [
    {
     "data": {
      "text/plain": [
       "<AxesSubplot:ylabel='claim_amount'>"
      ]
     },
     "execution_count": 14,
     "metadata": {},
     "output_type": "execute_result"
    },
    {
     "data": {
      "image/png": "[encoded data removed]",
      "text/plain": [
       "<Figure size 432x288 with 1 Axes>"
      ]
     },
     "metadata": {},
     "output_type": "display_data"
    }
   ],
   "source": [
    "#11\n",
    "data.groupby([\"gender\",\"Segment\"]).agg({\"claim_amount\":\"sum\"}).plot(kind=\"pie\",y=\"claim_amount\",autopct='%1.0f%%',legend=False)"
   ]
  },
  {
   "cell_type": "code",
   "execution_count": 15,
   "id": "a8f16a09",
   "metadata": {},
   "outputs": [
    {
     "data": {
      "text/plain": [
       "<AxesSubplot:xlabel='gender'>"
      ]
     },
     "execution_count": 15,
     "metadata": {},
     "output_type": "execute_result"
    },
    {
     "data": {
      "image/png": "[encoded data removed]",
      "text/plain": [
       "<Figure size 432x288 with 1 Axes>"
      ]
     },
     "metadata": {
      "needs_background": "light"
     },
     "output_type": "display_data"
    }
   ],
   "source": [
    "#12\n",
    "data[data.incident_cause.isin([\"Other driver error\",\"Driver error\"])].groupby(\"gender\")[\"incident_cause\"].count().plot(kind=\"bar\")\n"
   ]
  },
  {
   "cell_type": "code",
   "execution_count": 16,
   "id": "7c196339",
   "metadata": {},
   "outputs": [
    {
     "data": {
      "text/plain": [
       "<AxesSubplot:xlabel='Age'>"
      ]
     },
     "execution_count": 16,
     "metadata": {},
     "output_type": "execute_result"
    },
    {
     "data": {
      "image/png": "[encoded data removed]",
      "text/plain": [
       "<Figure size 432x288 with 1 Axes>"
      ]
     },
     "metadata": {
      "needs_background": "light"
     },
     "output_type": "display_data"
    }
   ],
   "source": [
    "#13\n",
    "data[data.fraudulent == \"Yes\"].groupby(\"Age\").fraudulent.count().plot(kind=\"bar\")"
   ]
  },
  {
   "cell_type": "code",
   "execution_count": 17,
   "id": "626070df",
   "metadata": {},
   "outputs": [
    {
     "data": {
      "image/png": "[encoded data removed]",
      "text/plain": [
       "<Figure size 432x288 with 1 Axes>"
      ]
     },
     "metadata": {
      "needs_background": "light"
     },
     "output_type": "display_data"
    }
   ],
   "source": [
    "#14\n",
    "df = data.groupby(data.claim_date.dt.month).claim_amount.sum().reset_index()\n",
    "gf = pd.to_datetime(df.claim_date,format=\"%m\")\n",
    "df = df.set_index([[dt.datetime.strftime(i,\"%b\") for i in gf]]).drop(columns=\"claim_date\").round(3)\n",
    "plt.plot(df.index,df.claim_amount)\n",
    "plt.ylim(bottom=0,top=1800000)\n",
    "plt.ticklabel_format(axis='y', style='plain')\n",
    "plt.show()"
   ]
  },
  {
   "cell_type": "code",
   "execution_count": 18,
   "id": "ad131204",
   "metadata": {},
   "outputs": [
    {
     "data": {
      "image/png": "[encoded data removed]",
      "text/plain": [
       "<Figure size 720x576 with 2 Axes>"
      ]
     },
     "metadata": {
      "needs_background": "light"
     },
     "output_type": "display_data"
    }
   ],
   "source": [
    "#15\n",
    "\n",
    "F_yes = data[data[\"fraudulent\"]==\"Yes\"].groupby([\"gender\",\"Age\"]).agg({\"claim_amount\":\"mean\"}).reset_index()\n",
    "F_yes['Differ'] = F_yes.Age + \" - \" + F_yes.gender\n",
    "F_no = data[data[\"fraudulent\"]==\"No\"].groupby([\"gender\",\"Age\"]).agg({\"claim_amount\":\"mean\"}).reset_index()\n",
    "F_no['Differ'] = F_no.Age + \" - \" + F_no.gender\n",
    "fig ,axs = plt.subplots(2,1,figsize=(10,8))\n",
    "\n",
    "axs[0].bar(F_yes.Differ,F_yes.claim_amount,color = \"#FF4545\")\n",
    "axs[1].bar(F_no.Differ,F_no.claim_amount,color = \"#7ED4AD\")\n",
    "\n",
    "axs[0].set_xlabel(\"Fraudulent\")\n",
    "axs[1].set_xlabel(\"No Fraudulent\")\n",
    "\n",
    "plt.show()\n"
   ]
  },
  {
   "cell_type": "code",
   "execution_count": 19,
   "id": "d1ebb165",
   "metadata": {},
   "outputs": [
    {
     "data": {
      "text/plain": [
       "Ttest_indResult(statistic=0.8848703612768547, pvalue=0.3764242430541366)"
      ]
     },
     "execution_count": 19,
     "metadata": {},
     "output_type": "execute_result"
    }
   ],
   "source": [
    "#16 \n",
    "# H0 : amount claimed by male ~ amount claimed by female\n",
    "# Ha : amount claimed by male <> amount claimed by female\n",
    "\n",
    "# Confidence = 95%\n",
    "# Alpha region = 1-0.95 = 0.05 ie 5%\n",
    "\n",
    "#since we have two continous variables , we can go for the t-test ind\n",
    "male_amounts = data[data.gender == \"Male\"].claim_amount\n",
    "female_amounts = data[data.gender == \"Female\"].claim_amount\n",
    "\n",
    "stats.ttest_ind(male_amounts,female_amounts)"
   ]
  },
  {
   "cell_type": "markdown",
   "id": "fc0e2f14",
   "metadata": {},
   "source": [
    "<p>Since the pvalue is high the null will fly, and the statistic is also within the confidence region</p>\n",
    "hence we accept the null hypothesis ,which means the amount claimed by males and females are similar"
   ]
  },
  {
   "cell_type": "code",
   "execution_count": 25,
   "id": "baae37d1",
   "metadata": {},
   "outputs": [
    {
     "data": {
      "text/plain": [
       "(0.48780619171849526,\n",
       " 0.9746771395015646,\n",
       " 4,\n",
       " array([[275.66883117, 268.23840445, 257.09276438],\n",
       "        [ 34.41558442,  33.48794063,  32.09647495],\n",
       "        [ 60.91558442,  59.27365492,  56.81076067]]))"
      ]
     },
     "execution_count": 25,
     "metadata": {},
     "output_type": "execute_result"
    }
   ],
   "source": [
    "#17\n",
    "# H0 : there is a relationship between Age Category and Segment\n",
    "# Ha : there is no relationship between Age Category and Segment\n",
    "# Confidence = 95%\n",
    "# Alpha region = 1-0.95 = 0.05 ie 5%\n",
    "\n",
    "#since we have two categorical variables , we can go for the chi squared test\n",
    "\n",
    "obs = pd.crosstab(data.Age,data.Segment)\n",
    "stats.chi2_contingency(obs)"
   ]
  },
  {
   "cell_type": "markdown",
   "id": "544fa738",
   "metadata": {},
   "source": [
    "Since the pvalue is high the null will fly, and the statistic is also within the confidence region\n",
    "hence we accept the null hypothesis , which means the Age Category and Segment have a relationship"
   ]
  },
  {
   "cell_type": "code",
   "execution_count": 84,
   "id": "2ff66118",
   "metadata": {},
   "outputs": [
    {
     "data": {
      "text/plain": [
       "[<matplotlib.lines.Line2D at 0x2c59f233c70>]"
      ]
     },
     "execution_count": 84,
     "metadata": {},
     "output_type": "execute_result"
    },
    {
     "data": {
      "image/png": "[encoded data removed]",
      "text/plain": [
       "<Figure size 432x288 with 1 Axes>"
      ]
     },
     "metadata": {
      "needs_background": "light"
     },
     "output_type": "display_data"
    }
   ],
   "source": [
    "#18\n",
    "df = data.groupby([data.claim_date.dt.year,data.claim_date.dt.month]).agg({\"claim_amount\": \"mean\"})\n",
    "df.plot()\n",
    "fd = df\n",
    "fd = fd.reset_index(drop=True)\n",
    "fd.claim_amount = 10000\n",
    "plt.plot(fd.index,fd.claim_amount,color = \"red\")\n",
    "#yes there has been inconsistencies but the avg is mostly way above the red line"
   ]
  },
  {
   "cell_type": "code",
   "execution_count": 104,
   "id": "03e7d7fb",
   "metadata": {},
   "outputs": [
    {
     "data": {
      "text/plain": [
       "F_onewayResult(statistic=0.3866246597210643, pvalue=0.6794404572850259)"
      ]
     },
     "execution_count": 104,
     "metadata": {},
     "output_type": "execute_result"
    }
   ],
   "source": [
    "#19\n",
    "# H0 : adult = youth = senior\n",
    "# Ha : <>\n",
    "# Confidence = 95%\n",
    "# Alpha region = 1-0.95 = 0.05 ie 5%\n",
    "\n",
    "#since we have more than 2 continous , we can go for the anova test\n",
    "\n",
    "adult_df = data[data.Age == \"Adult\"]\n",
    "youth_df = data[data.Age == \"Youth\"]\n",
    "senior_df = data[data.Age == \"Senior\"]\n",
    "stats.f_oneway(adult_df.claim_amount,youth_df.claim_amount,senior_df.claim_amount)"
   ]
  },
  {
   "cell_type": "markdown",
   "id": "fa51c231",
   "metadata": {},
   "source": [
    "Since the pvalue is high the null will fly, and the statistic is also within the confidence region hence we accept the null hypothesis , which means the Age Categories have a similar mean"
   ]
  },
  {
   "cell_type": "code",
   "execution_count": 116,
   "id": "f6a18961",
   "metadata": {},
   "outputs": [
    {
     "data": {
      "text/plain": [
       "(-0.014800926105369988, 0.6273782545418523)"
      ]
     },
     "execution_count": 116,
     "metadata": {},
     "output_type": "execute_result"
    }
   ],
   "source": [
    "#20\n",
    "# H0 : as total policy claims increases claim amount increases or decreases\n",
    "# Ha : no relationship\n",
    "# Confidence = 95%\n",
    "# Alpha region = 1-0.95 = 0.05 ie 5%\n",
    "\n",
    "#since we have 2 continous , we can go for the pearson's corelation test\n",
    "stats.pearsonr(data.total_policy_claims,data.claim_amount)"
   ]
  },
  {
   "cell_type": "markdown",
   "id": "257d55aa",
   "metadata": {},
   "source": [
    "since the pearson correlation coefficient is very low suggesting a very weak relationship hence we will reject the null and accept the alternate.\n",
    "hence there seems to be no relationship between total policy claims and amount claimed"
   ]
  }
 ],
 "metadata": {
  "kernelspec": {
   "display_name": "Python 3 (ipykernel)",
   "language": "python",
   "name": "python3"
  },
  "language_info": {
   "codemirror_mode": {
    "name": "ipython",
    "version": 3
   },
   "file_extension": ".py",
   "mimetype": "text/x-python",
   "name": "python",
   "nbconvert_exporter": "python",
   "pygments_lexer": "ipython3",
   "version": "3.9.7"
  }
 },
 "nbformat": 4,
 "nbformat_minor": 5
}
